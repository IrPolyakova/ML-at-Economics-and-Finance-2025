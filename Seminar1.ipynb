{
 "cells": [
  {
   "cell_type": "markdown",
   "metadata": {},
   "source": [
    "# 1. ВВЕДЕНИЕ В NUMPY"
   ]
  },
  {
   "cell_type": "code",
   "execution_count": 1,
   "metadata": {},
   "outputs": [],
   "source": [
    "# Официальная документация NumPy: https://numpy.org/doc/\n",
    "# Приятный туториал: https://habr.com/ru/articles/352678/\n",
    "\n",
    "#!pip install numpy\n",
    "import numpy as np"
   ]
  },
  {
   "cell_type": "markdown",
   "metadata": {},
   "source": [
    "Главной особенностью numpy является объект array. Массивы схожи со списками в python, исключая тот факт, что элементы массива должны иметь одинаковый тип данных, как float и int. <br> С массивами можно проводить числовые операции с большим объемом информации в разы быстрее и, главное, намного эффективнее чем со списками. <br>\n",
    "* Почему скорость работы функций в numpy выше, чем у написанных на чистом Python?"
   ]
  },
  {
   "cell_type": "markdown",
   "metadata": {},
   "source": [
    "## Создание массивов"
   ]
  },
  {
   "cell_type": "code",
   "execution_count": null,
   "metadata": {},
   "outputs": [],
   "source": [
    "my_list = [1, 2, 3, 4, 5]\n",
    "my_array = np.array(my_list)\n",
    "print(\"Массив из списка:\", my_array)"
   ]
  },
  {
   "cell_type": "code",
   "execution_count": null,
   "metadata": {},
   "outputs": [],
   "source": [
    "zeros_array = np.zeros(5)\n",
    "print(\"Массив нулей:\", zeros_array)\n",
    "\n",
    "ones_array = np.ones((3, 2, 6))\n",
    "print(\"Массив единиц:\\n\", ones_array)"
   ]
  },
  {
   "cell_type": "code",
   "execution_count": null,
   "metadata": {},
   "outputs": [],
   "source": [
    "full_array = np.full((3, 2), 7) #Создаем 2D массив (матрицу)\n",
    "print(\"Массив с заданным значением:\\n\", full_array)"
   ]
  },
  {
   "cell_type": "code",
   "execution_count": null,
   "metadata": {},
   "outputs": [],
   "source": [
    "arange_array = np.arange(0, 10, 2) # от 0 до 10 с шагом 2\n",
    "print(\"Массив arange:\", arange_array)\n",
    "\n",
    "linspace_array = np.linspace(0, 1, 5)  # от 0 до 1 (включительно) с 5 элементами\n",
    "print(\"Массив linspace:\", linspace_array)"
   ]
  },
  {
   "cell_type": "code",
   "execution_count": null,
   "metadata": {},
   "outputs": [],
   "source": [
    "rand_array = np.random.rand(2) # от 0 до 1\n",
    "print(\"Массив случайных чисел от 0 до 1:\\n\", rand_array)\n",
    "\n",
    "randint_array = np.random.randint(1, 10, size = (3,3))  # от 1 до 10 (не включая)\n",
    "print(\"Массив случайных целых чисел от 1 до 10:\\n\", randint_array)"
   ]
  },
  {
   "cell_type": "markdown",
   "metadata": {},
   "source": [
    "Задание 1:\n",
    "* 1. Создайте массив из 10 случайных чисел от 0 до 100.\n",
    "* 2. Создайте массив 2x2 из нулей, а затем замените второй элемент (по индексу 1) первой строки на 5."
   ]
  },
  {
   "cell_type": "code",
   "execution_count": null,
   "metadata": {},
   "outputs": [],
   "source": [
    "# YOUR CODE HERE"
   ]
  },
  {
   "cell_type": "markdown",
   "metadata": {},
   "source": [
    "## Срезы и индексация"
   ]
  },
  {
   "cell_type": "code",
   "execution_count": null,
   "metadata": {},
   "outputs": [],
   "source": [
    "my_array = np.array([[1, 2, 3], [4, 5, 6]])\n",
    "print(\"Исходный массив:\\n\", my_array)\n",
    "print(\"Размерность (ndim):\", my_array.ndim)\n",
    "print(\"Форма (shape):\", my_array.shape)"
   ]
  },
  {
   "cell_type": "code",
   "execution_count": null,
   "metadata": {},
   "outputs": [],
   "source": [
    "# одномерный случай\n",
    "\n",
    "my_array = np.arange(10) # Создание массива от 0 до 9\n",
    "print(\"Исходный массив:\", my_array)\n",
    "\n",
    "print(\"Первый элемент:\", my_array[0])\n",
    "print(\"Последний элемент:\", my_array[-1])\n",
    "print(\"Срез с 2-го по 5-й элементы:\", my_array[2:6])\n",
    "print(\"Срез с начала до 4-го элемента:\", my_array[:4])\n",
    "print(\"Срез с 5-го элемента до конца:\", my_array[5:])\n",
    "print(\"Срез каждого 2-го элемента:\", my_array[::2])\n",
    "print(\"Срез в обратном порядке:\", my_array[::-1])"
   ]
  },
  {
   "cell_type": "code",
   "execution_count": null,
   "metadata": {},
   "outputs": [],
   "source": [
    "# многомерный случай\n",
    "\n",
    "my_array = np.array([[1, 2, 3], [4, 5, 6], [7, 8, 9]])\n",
    "print(\"Исходный массив:\\n\", my_array)\n",
    "\n",
    "print(\"Элемент в строке 1, столбце 2:\", my_array[1, 2])\n",
    "print(\"Первая строка:\", my_array[0, :])\n",
    "print(\"Второй столбец:\", my_array[:, 1])"
   ]
  },
  {
   "cell_type": "markdown",
   "metadata": {},
   "source": [
    "Задание 2:\n",
    "* 1. Создайте массив 5x5 из случайных чисел от 0 до 20.\n",
    "* 2. Выберите первую строку и выведите её.\n",
    "* 3. Выберите последний столбец и выведите его.\n",
    "* 4. Выберите центральный элемент массива (если он есть)."
   ]
  },
  {
   "cell_type": "code",
   "execution_count": null,
   "metadata": {},
   "outputs": [],
   "source": [
    "# YOUR CODE HERE"
   ]
  },
  {
   "cell_type": "markdown",
   "metadata": {},
   "source": [
    "## Базовые операции над массивами"
   ]
  },
  {
   "cell_type": "code",
   "execution_count": null,
   "metadata": {},
   "outputs": [],
   "source": [
    "# классические операции\n",
    "\n",
    "my_array1 = np.array([1, 2, 3])\n",
    "my_array2 = np.array([4, 5, 6])\n",
    "\n",
    "print(\"Сумма:\", my_array1 + my_array2)\n",
    "print(\"Разность:\", my_array1 - my_array2)\n",
    "print(\"Произведение:\", my_array1 * my_array2)\n",
    "print(\"Деление:\", my_array1 / my_array2)\n",
    "print(\"Возведение в степень:\", my_array1 ** 2)"
   ]
  },
  {
   "cell_type": "code",
   "execution_count": null,
   "metadata": {},
   "outputs": [],
   "source": [
    "# агрегатные фунцкии\n",
    "\n",
    "my_array = np.arange(1, 11) #Массив от 1 до 10\n",
    "print(\"Исходный массив:\", my_array)\n",
    "\n",
    "print(\"Сумма элементов:\", np.sum(my_array))\n",
    "print(\"Среднее значение:\", np.mean(my_array))\n",
    "print(\"Максимальное значение:\", np.max(my_array))\n",
    "print(\"Минимальное значение:\", np.min(my_array))\n",
    "print(\"Индекс максимального значения:\", np.argmax(my_array))\n",
    "print(\"Индекс минимального значения:\", np.argmin(my_array))\n",
    "print(\"Стандартное отклонение:\", np.std(my_array))"
   ]
  },
  {
   "cell_type": "markdown",
   "metadata": {},
   "source": [
    "Задание 3:\n",
    "* 1. Создайте два массива 3x3 из случайных целых чисел от 1 до 10.\n",
    "* 2. Поэлементно перемножьте эти массивы.\n",
    "* 3. Найдите сумму элементов результирующего массива.\n",
    "* 4. Вычислите среднее значение элементов для каждого столбца."
   ]
  },
  {
   "cell_type": "code",
   "execution_count": null,
   "metadata": {},
   "outputs": [],
   "source": [
    "# YOUR CODE HERE"
   ]
  },
  {
   "cell_type": "markdown",
   "metadata": {},
   "source": [
    "# 2. ВВЕДЕНИЕ В PANDAS"
   ]
  },
  {
   "cell_type": "code",
   "execution_count": null,
   "metadata": {},
   "outputs": [],
   "source": [
    "# Официальная документация Pandas: https://pandas.pydata.org/docs/"
   ]
  },
  {
   "cell_type": "code",
   "execution_count": 33,
   "metadata": {},
   "outputs": [],
   "source": [
    "#!pip install pandas\n",
    "import pandas as pd"
   ]
  },
  {
   "cell_type": "markdown",
   "metadata": {},
   "source": [
    "## Создание pd.Series"
   ]
  },
  {
   "cell_type": "code",
   "execution_count": null,
   "metadata": {},
   "outputs": [],
   "source": [
    "# Из списка\n",
    "my_list = [10, 20, 30, 40, 50]\n",
    "my_series = pd.Series(my_list)\n",
    "print(\"Series из списка:\\n\", my_series)\n",
    "\n",
    "\n",
    "# Из NumPy массива:\n",
    "my_array = np.array([1, 2, 3, 4, 5])\n",
    "my_series = pd.Series(my_array)\n",
    "print(\"Series из NumPy массива:\\n\", my_series)\n",
    "\n",
    "# С явными индексами:\n",
    "my_series = pd.Series([10, 20, 30], index=['a', 'b', 'c'])\n",
    "print(\"Series с явными индексами:\\n\", my_series)"
   ]
  },
  {
   "cell_type": "markdown",
   "metadata": {},
   "source": [
    "## Создание pd.DataFrame"
   ]
  },
  {
   "cell_type": "code",
   "execution_count": null,
   "metadata": {},
   "outputs": [],
   "source": [
    "# Из словаря:\n",
    "my_dict = {\n",
    "    'name': ['Alice', 'Bob', 'Charlie'],\n",
    "    'age': [25, 30, 28],\n",
    "    'city': ['New York', 'London', 'Paris']\n",
    "}\n",
    "my_df = pd.DataFrame(my_dict)\n",
    "print(\"DataFrame из словаря:\\n\", my_df)\n",
    "\n",
    "#  Из NumPy массива (с заданием столбцов):\n",
    "my_array = np.array([[1, 2, 3], [4, 5, 6], [7, 8, 9]])\n",
    "my_df = pd.DataFrame(my_array, columns=['col1', 'col2', 'col3'])\n",
    "print(\"DataFrame из NumPy массива:\\n\", my_df)"
   ]
  },
  {
   "cell_type": "code",
   "execution_count": null,
   "metadata": {},
   "outputs": [],
   "source": [
    "# Из Excel\n",
    "my_df = pd.read_excel(\"C:/Users/ipoly/OneDrive/Рабочий стол/Data_RLMS.xlsx\")\n",
    "my_df"
   ]
  },
  {
   "cell_type": "markdown",
   "metadata": {},
   "source": [
    "## Основная информация о датафрейме"
   ]
  },
  {
   "cell_type": "code",
   "execution_count": null,
   "metadata": {},
   "outputs": [],
   "source": [
    "#  Вывод первых и последних строк:**\n",
    "print(\"Первые 2 строки:\\n\", my_df.head(2))\n",
    "print(\"Последние 2 строки:\\n\", my_df.tail(2))\n",
    "\n",
    "#  Информация о DataFrame:**\n",
    "print(\"Общая информация о DataFrame:\")\n",
    "my_df.info()\n",
    "\n",
    "# Статистика по DataFrame:**\n",
    "print(\"Статистическое описание DataFrame:\\n\", my_df.describe())\n",
    "\n",
    "# Форма, названия столбцов и индексы:**\n",
    "print(\"Форма DataFrame:\", my_df.shape)\n",
    "print(\"Названия столбцов:\", my_df.columns)\n",
    "print(\"Индексы:\", my_df.index)"
   ]
  },
  {
   "cell_type": "markdown",
   "metadata": {},
   "source": [
    "## Индексация и выбор данных"
   ]
  },
  {
   "cell_type": "code",
   "execution_count": null,
   "metadata": {},
   "outputs": [],
   "source": [
    "# Выбор столбцов\n",
    "\n",
    "print(\"Столбец 'industry':\\n\", my_df['industry'])  # По названию\n",
    "print(\"Столбец 'age':\\n\", my_df.age)  # Альтернативный способ (если название столбца валидное)"
   ]
  },
  {
   "cell_type": "code",
   "execution_count": null,
   "metadata": {},
   "outputs": [],
   "source": [
    "# Выбор строк\n",
    "\n",
    "print(\"Строки с индексами от 1 до 2:\\n\", my_df[1:3])  # Срезы\n",
    "print(\"Строка с индексом 0:\\n\", my_df.loc[0]) # выбор по индексу с помощью .loc"
   ]
  },
  {
   "cell_type": "code",
   "execution_count": null,
   "metadata": {},
   "outputs": [],
   "source": [
    "# Выбор строк по условию (фильтрация)\n",
    "\n",
    "print(\"Строки, где возраст больше 28:\\n\", my_df[my_df['age'] > 28]) \n",
    "print(\"Строки, где отрасль равна ОБРАЗОВАНИЕ:\\n\", my_df.loc[my_df['industry'] == 'ОБРАЗОВАНИЕ'])"
   ]
  },
  {
   "cell_type": "code",
   "execution_count": null,
   "metadata": {},
   "outputs": [],
   "source": [
    "# loc` используется для выбора по меткам строк и столбцов\n",
    "# iloc` используется для выбора по числовым индексам строк и столбцов\n",
    "\n",
    "print(\"Выбор строк и столбцов по индексам с помощью iloc:\\n\", my_df.iloc[0:2, 0:2]) # iloc\n",
    "print(\"Выбор строк и столбцов по меткам с помощью loc:\\n\", my_df.loc[0:2, ['idind','psu']]) # loc"
   ]
  },
  {
   "cell_type": "markdown",
   "metadata": {},
   "source": [
    "## Базовые операции"
   ]
  },
  {
   "cell_type": "code",
   "execution_count": null,
   "metadata": {},
   "outputs": [],
   "source": [
    "# Агрегатные функции\n",
    "\n",
    "print(\"Средний возраст в выборке:\\n\", my_df['age'].mean())\n",
    "print(\"Наибольший  возраст в выборке:\\n\", my_df['age'].max())\n",
    "print(\"Наименьший возраст в выборке:\\n\", my_df['age'].min() )"
   ]
  },
  {
   "cell_type": "code",
   "execution_count": null,
   "metadata": {},
   "outputs": [],
   "source": [
    "# Группировка\n",
    "\n",
    "grouped_df = my_df.groupby('industry')['lnwage'].mean() #средняя зарплата по отраслям\n",
    "print(\"Средняя зарплата по отраслям:\\n\", grouped_df)"
   ]
  },
  {
   "cell_type": "code",
   "execution_count": null,
   "metadata": {},
   "outputs": [],
   "source": [
    "# Cоздание столбцов\n",
    "\n",
    "my_df['random_col'] = np.random.rand(my_df.shape[0]) # добавим колонку с рандомными числами от 0 до 1 нужного размера\n",
    "my_df"
   ]
  },
  {
   "cell_type": "code",
   "execution_count": null,
   "metadata": {},
   "outputs": [],
   "source": [
    "# Удаление столбцов\n",
    "\n",
    "my_df = my_df.drop('random_col', axis=1) # удалим созданный рандомный столбец\n",
    "my_df"
   ]
  },
  {
   "cell_type": "markdown",
   "metadata": {},
   "source": [
    "Задание для практики \n",
    "* 1. Cделайте фильтр по возрасту: от 18 до 25 лет, от 26 до 50 и 50+, какова средняя, минимальная и максимальная зарплата в этих категориях?\n",
    "* 2. Сделайте сводную таблицу, где покажете среднюю зарплату для каждого региона и отрасли (например, Московская области + ОБРАЗОВАНИЕ)\n",
    "* 3. Удалите столбцы id1-id75\n",
    "* 4. Выведите строки с максимальной и минимальной зарплатой в выборке\n",
    "* 5. Придумайте гипотезу и проверьте ее на данных, используя инструменты pandas и numpy"
   ]
  },
  {
   "cell_type": "code",
   "execution_count": null,
   "metadata": {},
   "outputs": [],
   "source": [
    "# YOUR CODE HERE"
   ]
  }
 ],
 "metadata": {
  "kernelspec": {
   "display_name": "Python 3",
   "language": "python",
   "name": "python3"
  },
  "language_info": {
   "codemirror_mode": {
    "name": "ipython",
    "version": 3
   },
   "file_extension": ".py",
   "mimetype": "text/x-python",
   "name": "python",
   "nbconvert_exporter": "python",
   "pygments_lexer": "ipython3",
   "version": "3.12.3"
  }
 },
 "nbformat": 4,
 "nbformat_minor": 2
}
